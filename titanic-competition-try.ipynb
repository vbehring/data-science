{
 "cells": [
  {
   "cell_type": "markdown",
   "id": "3d704c03",
   "metadata": {
    "papermill": {
     "duration": 0.010263,
     "end_time": "2023-04-29T18:57:18.369253",
     "exception": false,
     "start_time": "2023-04-29T18:57:18.358990",
     "status": "completed"
    },
    "tags": []
   },
   "source": [
    "## Data Dictionary\n",
    "\n",
    "| Variable  |  Definition |\tKey\t |\n",
    "|-----------|-------------|------|\n",
    "|survival:  |\tSurvival  | \t0 = No, 1 = Yes\t|\n",
    "|pclass:   \t|Ticket class |\t1 = 1st, 2 = 2nd, 3 = 3rd\t|\n",
    "|sex:      \t|Sex \t| |\n",
    "|Age:      \t|Age in years| \t|\n",
    "|sibsp:    \t|# of siblings / spouses aboard the Titanic \t| |\n",
    "|parch:    \t|# of parents / children aboard the Titanic \t| |\n",
    "|ticket:   \t|Ticket number \t| |\n",
    "|fare:     \t|Passenger fare \t| |\n",
    "|cabin:    \t|Cabin number \t| |\n",
    "|embarked: \t|Port of Embarkation \t|C = Cherbourg, Q = Queenstown, S = Southampton|\n",
    "\n",
    "\n",
    "pclass: A proxy for socio-economic status (SES)\t\n",
    "1st = Upper\t\n",
    "2nd = Middle\t\n",
    "3rd = Lower\t\n",
    "\n",
    "age: Age is fractional if less than 1. If the age is estimated, is it in the form of xx.5\n",
    "\n",
    "sibsp: The dataset defines family relations in this way...\t\n",
    "Sibling = brother, sister, stepbrother, stepsister\t\n",
    "Spouse = husband, wife (mistresses and fiancés were ignored)\t\n",
    "\n",
    "parch: The dataset defines family relations in this way...\t\n",
    "Parent = mother, father\t\n",
    "\n",
    "Child = daughter, son, stepdaughter, stepson\t\n",
    "\n",
    "Some children travelled only with a nanny, therefore parch=0 for them."
   ]
  },
  {
   "cell_type": "code",
   "execution_count": 1,
   "id": "fcfa455c",
   "metadata": {
    "_cell_guid": "b1076dfc-b9ad-4769-8c92-a6c4dae69d19",
    "_uuid": "8f2839f25d086af736a60e9eeb907d3b93b6e0e5",
    "execution": {
     "iopub.execute_input": "2023-04-29T18:57:18.389118Z",
     "iopub.status.busy": "2023-04-29T18:57:18.388677Z",
     "iopub.status.idle": "2023-04-29T18:57:18.404433Z",
     "shell.execute_reply": "2023-04-29T18:57:18.403176Z"
    },
    "papermill": {
     "duration": 0.029488,
     "end_time": "2023-04-29T18:57:18.407805",
     "exception": false,
     "start_time": "2023-04-29T18:57:18.378317",
     "status": "completed"
    },
    "tags": []
   },
   "outputs": [
    {
     "name": "stdout",
     "output_type": "stream",
     "text": [
      "/kaggle/input/titanic/train.csv\n",
      "/kaggle/input/titanic/test.csv\n",
      "/kaggle/input/titanic/gender_submission.csv\n"
     ]
    }
   ],
   "source": [
    "# This Python 3 environment comes with many \n",
    "\n",
    "#helpful analytics libraries installed\n",
    "# It is defined by the kaggle/python Docker image: https://github.com/kaggle/docker-python\n",
    "# For example, here's several helpful packages to load\n",
    "\n",
    "import numpy as np # linear algebra\n",
    "import pandas as pd # data processing, CSV file I/O (e.g. pd.read_csv)\n",
    "\n",
    "# Input data files are available in the read-only \"../input/\" directory\n",
    "# For example, running this (by clicking run or pressing Shift+Enter) will list all files under the input directory\n",
    "\n",
    "import os\n",
    "for dirname, _, filenames in os.walk('/kaggle/input'):\n",
    "    for filename in filenames:\n",
    "        print(os.path.join(dirname, filename))\n",
    "\n",
    "# You can write up to 20GB to the current directory (/kaggle/working/) that gets preserved as output when you create a version using \"Save & Run All\" \n",
    "# You can also write temporary files to /kaggle/temp/, but they won't be saved outside of the current session"
   ]
  },
  {
   "cell_type": "code",
   "execution_count": 2,
   "id": "8d88e756",
   "metadata": {
    "execution": {
     "iopub.execute_input": "2023-04-29T18:57:18.428090Z",
     "iopub.status.busy": "2023-04-29T18:57:18.427075Z",
     "iopub.status.idle": "2023-04-29T18:57:19.597592Z",
     "shell.execute_reply": "2023-04-29T18:57:19.595971Z"
    },
    "papermill": {
     "duration": 1.183295,
     "end_time": "2023-04-29T18:57:19.600143",
     "exception": false,
     "start_time": "2023-04-29T18:57:18.416848",
     "status": "completed"
    },
    "tags": []
   },
   "outputs": [
    {
     "name": "stdout",
     "output_type": "stream",
     "text": [
      "Setup Complete\n"
     ]
    }
   ],
   "source": [
    "pd.plotting.register_matplotlib_converters()\n",
    "import matplotlib.pyplot as plt\n",
    "%matplotlib inline\n",
    "import seaborn as sns\n",
    "print(\"Setup Complete\")"
   ]
  },
  {
   "cell_type": "markdown",
   "id": "f00ab93c",
   "metadata": {
    "papermill": {
     "duration": 0.008567,
     "end_time": "2023-04-29T18:57:19.617763",
     "exception": false,
     "start_time": "2023-04-29T18:57:19.609196",
     "status": "completed"
    },
    "tags": []
   },
   "source": [
    "## Training Data loading"
   ]
  },
  {
   "cell_type": "code",
   "execution_count": 3,
   "id": "e01ab830",
   "metadata": {
    "execution": {
     "iopub.execute_input": "2023-04-29T18:57:19.637472Z",
     "iopub.status.busy": "2023-04-29T18:57:19.637068Z",
     "iopub.status.idle": "2023-04-29T18:57:19.680258Z",
     "shell.execute_reply": "2023-04-29T18:57:19.679037Z"
    },
    "papermill": {
     "duration": 0.056362,
     "end_time": "2023-04-29T18:57:19.683048",
     "exception": false,
     "start_time": "2023-04-29T18:57:19.626686",
     "status": "completed"
    },
    "tags": []
   },
   "outputs": [
    {
     "data": {
      "text/html": [
       "<div>\n",
       "<style scoped>\n",
       "    .dataframe tbody tr th:only-of-type {\n",
       "        vertical-align: middle;\n",
       "    }\n",
       "\n",
       "    .dataframe tbody tr th {\n",
       "        vertical-align: top;\n",
       "    }\n",
       "\n",
       "    .dataframe thead th {\n",
       "        text-align: right;\n",
       "    }\n",
       "</style>\n",
       "<table border=\"1\" class=\"dataframe\">\n",
       "  <thead>\n",
       "    <tr style=\"text-align: right;\">\n",
       "      <th></th>\n",
       "      <th>PassengerId</th>\n",
       "      <th>Survived</th>\n",
       "      <th>Pclass</th>\n",
       "      <th>Name</th>\n",
       "      <th>Sex</th>\n",
       "      <th>Age</th>\n",
       "      <th>SibSp</th>\n",
       "      <th>Parch</th>\n",
       "      <th>Ticket</th>\n",
       "      <th>Fare</th>\n",
       "      <th>Cabin</th>\n",
       "      <th>Embarked</th>\n",
       "    </tr>\n",
       "  </thead>\n",
       "  <tbody>\n",
       "    <tr>\n",
       "      <th>0</th>\n",
       "      <td>1</td>\n",
       "      <td>0</td>\n",
       "      <td>3</td>\n",
       "      <td>Braund, Mr. Owen Harris</td>\n",
       "      <td>male</td>\n",
       "      <td>22.0</td>\n",
       "      <td>1</td>\n",
       "      <td>0</td>\n",
       "      <td>A/5 21171</td>\n",
       "      <td>7.2500</td>\n",
       "      <td>NaN</td>\n",
       "      <td>S</td>\n",
       "    </tr>\n",
       "    <tr>\n",
       "      <th>1</th>\n",
       "      <td>2</td>\n",
       "      <td>1</td>\n",
       "      <td>1</td>\n",
       "      <td>Cumings, Mrs. John Bradley (Florence Briggs Th...</td>\n",
       "      <td>female</td>\n",
       "      <td>38.0</td>\n",
       "      <td>1</td>\n",
       "      <td>0</td>\n",
       "      <td>PC 17599</td>\n",
       "      <td>71.2833</td>\n",
       "      <td>C85</td>\n",
       "      <td>C</td>\n",
       "    </tr>\n",
       "    <tr>\n",
       "      <th>2</th>\n",
       "      <td>3</td>\n",
       "      <td>1</td>\n",
       "      <td>3</td>\n",
       "      <td>Heikkinen, Miss. Laina</td>\n",
       "      <td>female</td>\n",
       "      <td>26.0</td>\n",
       "      <td>0</td>\n",
       "      <td>0</td>\n",
       "      <td>STON/O2. 3101282</td>\n",
       "      <td>7.9250</td>\n",
       "      <td>NaN</td>\n",
       "      <td>S</td>\n",
       "    </tr>\n",
       "    <tr>\n",
       "      <th>3</th>\n",
       "      <td>4</td>\n",
       "      <td>1</td>\n",
       "      <td>1</td>\n",
       "      <td>Futrelle, Mrs. Jacques Heath (Lily May Peel)</td>\n",
       "      <td>female</td>\n",
       "      <td>35.0</td>\n",
       "      <td>1</td>\n",
       "      <td>0</td>\n",
       "      <td>113803</td>\n",
       "      <td>53.1000</td>\n",
       "      <td>C123</td>\n",
       "      <td>S</td>\n",
       "    </tr>\n",
       "    <tr>\n",
       "      <th>4</th>\n",
       "      <td>5</td>\n",
       "      <td>0</td>\n",
       "      <td>3</td>\n",
       "      <td>Allen, Mr. William Henry</td>\n",
       "      <td>male</td>\n",
       "      <td>35.0</td>\n",
       "      <td>0</td>\n",
       "      <td>0</td>\n",
       "      <td>373450</td>\n",
       "      <td>8.0500</td>\n",
       "      <td>NaN</td>\n",
       "      <td>S</td>\n",
       "    </tr>\n",
       "  </tbody>\n",
       "</table>\n",
       "</div>"
      ],
      "text/plain": [
       "   PassengerId  Survived  Pclass  \\\n",
       "0            1         0       3   \n",
       "1            2         1       1   \n",
       "2            3         1       3   \n",
       "3            4         1       1   \n",
       "4            5         0       3   \n",
       "\n",
       "                                                Name     Sex   Age  SibSp  \\\n",
       "0                            Braund, Mr. Owen Harris    male  22.0      1   \n",
       "1  Cumings, Mrs. John Bradley (Florence Briggs Th...  female  38.0      1   \n",
       "2                             Heikkinen, Miss. Laina  female  26.0      0   \n",
       "3       Futrelle, Mrs. Jacques Heath (Lily May Peel)  female  35.0      1   \n",
       "4                           Allen, Mr. William Henry    male  35.0      0   \n",
       "\n",
       "   Parch            Ticket     Fare Cabin Embarked  \n",
       "0      0         A/5 21171   7.2500   NaN        S  \n",
       "1      0          PC 17599  71.2833   C85        C  \n",
       "2      0  STON/O2. 3101282   7.9250   NaN        S  \n",
       "3      0            113803  53.1000  C123        S  \n",
       "4      0            373450   8.0500   NaN        S  "
      ]
     },
     "execution_count": 3,
     "metadata": {},
     "output_type": "execute_result"
    }
   ],
   "source": [
    "train_data = pd.read_csv(\"/kaggle/input/titanic/train.csv\")\n",
    "train_data.head()\n"
   ]
  },
  {
   "cell_type": "markdown",
   "id": "c7575aa8",
   "metadata": {
    "papermill": {
     "duration": 0.008979,
     "end_time": "2023-04-29T18:57:19.701356",
     "exception": false,
     "start_time": "2023-04-29T18:57:19.692377",
     "status": "completed"
    },
    "tags": []
   },
   "source": [
    "## Test data load"
   ]
  },
  {
   "cell_type": "code",
   "execution_count": 4,
   "id": "f55344ec",
   "metadata": {
    "execution": {
     "iopub.execute_input": "2023-04-29T18:57:19.721697Z",
     "iopub.status.busy": "2023-04-29T18:57:19.721298Z",
     "iopub.status.idle": "2023-04-29T18:57:19.744073Z",
     "shell.execute_reply": "2023-04-29T18:57:19.742782Z"
    },
    "papermill": {
     "duration": 0.036141,
     "end_time": "2023-04-29T18:57:19.746739",
     "exception": false,
     "start_time": "2023-04-29T18:57:19.710598",
     "status": "completed"
    },
    "tags": []
   },
   "outputs": [
    {
     "data": {
      "text/html": [
       "<div>\n",
       "<style scoped>\n",
       "    .dataframe tbody tr th:only-of-type {\n",
       "        vertical-align: middle;\n",
       "    }\n",
       "\n",
       "    .dataframe tbody tr th {\n",
       "        vertical-align: top;\n",
       "    }\n",
       "\n",
       "    .dataframe thead th {\n",
       "        text-align: right;\n",
       "    }\n",
       "</style>\n",
       "<table border=\"1\" class=\"dataframe\">\n",
       "  <thead>\n",
       "    <tr style=\"text-align: right;\">\n",
       "      <th></th>\n",
       "      <th>PassengerId</th>\n",
       "      <th>Pclass</th>\n",
       "      <th>Name</th>\n",
       "      <th>Sex</th>\n",
       "      <th>Age</th>\n",
       "      <th>SibSp</th>\n",
       "      <th>Parch</th>\n",
       "      <th>Ticket</th>\n",
       "      <th>Fare</th>\n",
       "      <th>Cabin</th>\n",
       "      <th>Embarked</th>\n",
       "    </tr>\n",
       "  </thead>\n",
       "  <tbody>\n",
       "    <tr>\n",
       "      <th>0</th>\n",
       "      <td>892</td>\n",
       "      <td>3</td>\n",
       "      <td>Kelly, Mr. James</td>\n",
       "      <td>male</td>\n",
       "      <td>34.5</td>\n",
       "      <td>0</td>\n",
       "      <td>0</td>\n",
       "      <td>330911</td>\n",
       "      <td>7.8292</td>\n",
       "      <td>NaN</td>\n",
       "      <td>Q</td>\n",
       "    </tr>\n",
       "    <tr>\n",
       "      <th>1</th>\n",
       "      <td>893</td>\n",
       "      <td>3</td>\n",
       "      <td>Wilkes, Mrs. James (Ellen Needs)</td>\n",
       "      <td>female</td>\n",
       "      <td>47.0</td>\n",
       "      <td>1</td>\n",
       "      <td>0</td>\n",
       "      <td>363272</td>\n",
       "      <td>7.0000</td>\n",
       "      <td>NaN</td>\n",
       "      <td>S</td>\n",
       "    </tr>\n",
       "    <tr>\n",
       "      <th>2</th>\n",
       "      <td>894</td>\n",
       "      <td>2</td>\n",
       "      <td>Myles, Mr. Thomas Francis</td>\n",
       "      <td>male</td>\n",
       "      <td>62.0</td>\n",
       "      <td>0</td>\n",
       "      <td>0</td>\n",
       "      <td>240276</td>\n",
       "      <td>9.6875</td>\n",
       "      <td>NaN</td>\n",
       "      <td>Q</td>\n",
       "    </tr>\n",
       "    <tr>\n",
       "      <th>3</th>\n",
       "      <td>895</td>\n",
       "      <td>3</td>\n",
       "      <td>Wirz, Mr. Albert</td>\n",
       "      <td>male</td>\n",
       "      <td>27.0</td>\n",
       "      <td>0</td>\n",
       "      <td>0</td>\n",
       "      <td>315154</td>\n",
       "      <td>8.6625</td>\n",
       "      <td>NaN</td>\n",
       "      <td>S</td>\n",
       "    </tr>\n",
       "    <tr>\n",
       "      <th>4</th>\n",
       "      <td>896</td>\n",
       "      <td>3</td>\n",
       "      <td>Hirvonen, Mrs. Alexander (Helga E Lindqvist)</td>\n",
       "      <td>female</td>\n",
       "      <td>22.0</td>\n",
       "      <td>1</td>\n",
       "      <td>1</td>\n",
       "      <td>3101298</td>\n",
       "      <td>12.2875</td>\n",
       "      <td>NaN</td>\n",
       "      <td>S</td>\n",
       "    </tr>\n",
       "  </tbody>\n",
       "</table>\n",
       "</div>"
      ],
      "text/plain": [
       "   PassengerId  Pclass                                          Name     Sex  \\\n",
       "0          892       3                              Kelly, Mr. James    male   \n",
       "1          893       3              Wilkes, Mrs. James (Ellen Needs)  female   \n",
       "2          894       2                     Myles, Mr. Thomas Francis    male   \n",
       "3          895       3                              Wirz, Mr. Albert    male   \n",
       "4          896       3  Hirvonen, Mrs. Alexander (Helga E Lindqvist)  female   \n",
       "\n",
       "    Age  SibSp  Parch   Ticket     Fare Cabin Embarked  \n",
       "0  34.5      0      0   330911   7.8292   NaN        Q  \n",
       "1  47.0      1      0   363272   7.0000   NaN        S  \n",
       "2  62.0      0      0   240276   9.6875   NaN        Q  \n",
       "3  27.0      0      0   315154   8.6625   NaN        S  \n",
       "4  22.0      1      1  3101298  12.2875   NaN        S  "
      ]
     },
     "execution_count": 4,
     "metadata": {},
     "output_type": "execute_result"
    }
   ],
   "source": [
    "test_data = pd.read_csv(\"/kaggle/input/titanic/test.csv\")\n",
    "test_data.head()"
   ]
  },
  {
   "cell_type": "code",
   "execution_count": 5,
   "id": "c0062861",
   "metadata": {
    "execution": {
     "iopub.execute_input": "2023-04-29T18:57:19.768560Z",
     "iopub.status.busy": "2023-04-29T18:57:19.768141Z",
     "iopub.status.idle": "2023-04-29T18:57:19.793282Z",
     "shell.execute_reply": "2023-04-29T18:57:19.791970Z"
    },
    "papermill": {
     "duration": 0.038445,
     "end_time": "2023-04-29T18:57:19.795754",
     "exception": false,
     "start_time": "2023-04-29T18:57:19.757309",
     "status": "completed"
    },
    "tags": []
   },
   "outputs": [
    {
     "name": "stdout",
     "output_type": "stream",
     "text": [
      "<class 'pandas.core.frame.DataFrame'>\n",
      "RangeIndex: 418 entries, 0 to 417\n",
      "Data columns (total 11 columns):\n",
      " #   Column       Non-Null Count  Dtype  \n",
      "---  ------       --------------  -----  \n",
      " 0   PassengerId  418 non-null    int64  \n",
      " 1   Pclass       418 non-null    int64  \n",
      " 2   Name         418 non-null    object \n",
      " 3   Sex          418 non-null    object \n",
      " 4   Age          332 non-null    float64\n",
      " 5   SibSp        418 non-null    int64  \n",
      " 6   Parch        418 non-null    int64  \n",
      " 7   Ticket       418 non-null    object \n",
      " 8   Fare         417 non-null    float64\n",
      " 9   Cabin        91 non-null     object \n",
      " 10  Embarked     418 non-null    object \n",
      "dtypes: float64(2), int64(4), object(5)\n",
      "memory usage: 36.0+ KB\n"
     ]
    }
   ],
   "source": [
    "test_data.info()"
   ]
  },
  {
   "cell_type": "markdown",
   "id": "b64d71a8",
   "metadata": {
    "papermill": {
     "duration": 0.009024,
     "end_time": "2023-04-29T18:57:19.814503",
     "exception": false,
     "start_time": "2023-04-29T18:57:19.805479",
     "status": "completed"
    },
    "tags": []
   },
   "source": [
    "## Check basic info in the dataset"
   ]
  },
  {
   "cell_type": "code",
   "execution_count": 6,
   "id": "24c012d5",
   "metadata": {
    "execution": {
     "iopub.execute_input": "2023-04-29T18:57:19.835325Z",
     "iopub.status.busy": "2023-04-29T18:57:19.834865Z",
     "iopub.status.idle": "2023-04-29T18:57:19.842804Z",
     "shell.execute_reply": "2023-04-29T18:57:19.841580Z"
    },
    "papermill": {
     "duration": 0.021113,
     "end_time": "2023-04-29T18:57:19.845231",
     "exception": false,
     "start_time": "2023-04-29T18:57:19.824118",
     "status": "completed"
    },
    "tags": []
   },
   "outputs": [
    {
     "name": "stdout",
     "output_type": "stream",
     "text": [
      "# of unique items in column Name:  891\n",
      "# of unique items in column Ticket:  681\n"
     ]
    }
   ],
   "source": [
    "print(\"# of unique items in column Name: \",len(train_data.Name.unique().tolist()))\n",
    "print(\"# of unique items in column Ticket: \",len(train_data.Ticket.unique().tolist()))"
   ]
  },
  {
   "cell_type": "markdown",
   "id": "b38bc9cb",
   "metadata": {
    "papermill": {
     "duration": 0.009274,
     "end_time": "2023-04-29T18:57:19.864220",
     "exception": false,
     "start_time": "2023-04-29T18:57:19.854946",
     "status": "completed"
    },
    "tags": []
   },
   "source": [
    "## Drop columns Name, Ticket and Cabin"
   ]
  },
  {
   "cell_type": "code",
   "execution_count": 7,
   "id": "ac013eb6",
   "metadata": {
    "execution": {
     "iopub.execute_input": "2023-04-29T18:57:19.885672Z",
     "iopub.status.busy": "2023-04-29T18:57:19.885287Z",
     "iopub.status.idle": "2023-04-29T18:57:19.894985Z",
     "shell.execute_reply": "2023-04-29T18:57:19.893688Z"
    },
    "papermill": {
     "duration": 0.023463,
     "end_time": "2023-04-29T18:57:19.897648",
     "exception": false,
     "start_time": "2023-04-29T18:57:19.874185",
     "status": "completed"
    },
    "tags": []
   },
   "outputs": [],
   "source": [
    "#Add code drop columns on Train and Test datasets\n",
    "#Keep original datasets\n",
    "train_original = train_data\n",
    "test_original = test_data\n",
    "train_data.drop(['Name', 'Ticket', 'Cabin', 'PassengerId', 'Fare', 'Embarked'], axis=1, inplace=True)\n",
    "test_data.drop(['Name', 'Ticket', 'Cabin', 'PassengerId', 'Fare', 'Embarked'], axis=1, inplace=True)"
   ]
  },
  {
   "cell_type": "code",
   "execution_count": 8,
   "id": "68abb780",
   "metadata": {
    "execution": {
     "iopub.execute_input": "2023-04-29T18:57:19.919696Z",
     "iopub.status.busy": "2023-04-29T18:57:19.918835Z",
     "iopub.status.idle": "2023-04-29T18:57:19.932626Z",
     "shell.execute_reply": "2023-04-29T18:57:19.931081Z"
    },
    "papermill": {
     "duration": 0.027959,
     "end_time": "2023-04-29T18:57:19.935314",
     "exception": false,
     "start_time": "2023-04-29T18:57:19.907355",
     "status": "completed"
    },
    "tags": []
   },
   "outputs": [
    {
     "name": "stdout",
     "output_type": "stream",
     "text": [
      "<class 'pandas.core.frame.DataFrame'>\n",
      "RangeIndex: 891 entries, 0 to 890\n",
      "Data columns (total 6 columns):\n",
      " #   Column    Non-Null Count  Dtype  \n",
      "---  ------    --------------  -----  \n",
      " 0   Survived  891 non-null    int64  \n",
      " 1   Pclass    891 non-null    int64  \n",
      " 2   Sex       891 non-null    object \n",
      " 3   Age       714 non-null    float64\n",
      " 4   SibSp     891 non-null    int64  \n",
      " 5   Parch     891 non-null    int64  \n",
      "dtypes: float64(1), int64(4), object(1)\n",
      "memory usage: 41.9+ KB\n"
     ]
    }
   ],
   "source": [
    "train_data.info(verbose=True)"
   ]
  },
  {
   "cell_type": "markdown",
   "id": "906c7ce7",
   "metadata": {
    "papermill": {
     "duration": 0.009336,
     "end_time": "2023-04-29T18:57:19.954375",
     "exception": false,
     "start_time": "2023-04-29T18:57:19.945039",
     "status": "completed"
    },
    "tags": []
   },
   "source": [
    "**'describe()' method to get the statistical summary of the various features of the data set**"
   ]
  },
  {
   "cell_type": "code",
   "execution_count": 9,
   "id": "86654b50",
   "metadata": {
    "execution": {
     "iopub.execute_input": "2023-04-29T18:57:19.976303Z",
     "iopub.status.busy": "2023-04-29T18:57:19.975538Z",
     "iopub.status.idle": "2023-04-29T18:57:20.005488Z",
     "shell.execute_reply": "2023-04-29T18:57:20.004442Z"
    },
    "papermill": {
     "duration": 0.043604,
     "end_time": "2023-04-29T18:57:20.007828",
     "exception": false,
     "start_time": "2023-04-29T18:57:19.964224",
     "status": "completed"
    },
    "tags": []
   },
   "outputs": [
    {
     "data": {
      "text/html": [
       "<div>\n",
       "<style scoped>\n",
       "    .dataframe tbody tr th:only-of-type {\n",
       "        vertical-align: middle;\n",
       "    }\n",
       "\n",
       "    .dataframe tbody tr th {\n",
       "        vertical-align: top;\n",
       "    }\n",
       "\n",
       "    .dataframe thead th {\n",
       "        text-align: right;\n",
       "    }\n",
       "</style>\n",
       "<table border=\"1\" class=\"dataframe\">\n",
       "  <thead>\n",
       "    <tr style=\"text-align: right;\">\n",
       "      <th></th>\n",
       "      <th>Survived</th>\n",
       "      <th>Pclass</th>\n",
       "      <th>Age</th>\n",
       "      <th>SibSp</th>\n",
       "      <th>Parch</th>\n",
       "    </tr>\n",
       "  </thead>\n",
       "  <tbody>\n",
       "    <tr>\n",
       "      <th>count</th>\n",
       "      <td>891.000000</td>\n",
       "      <td>891.000000</td>\n",
       "      <td>714.000000</td>\n",
       "      <td>891.000000</td>\n",
       "      <td>891.000000</td>\n",
       "    </tr>\n",
       "    <tr>\n",
       "      <th>mean</th>\n",
       "      <td>0.383838</td>\n",
       "      <td>2.308642</td>\n",
       "      <td>29.699118</td>\n",
       "      <td>0.523008</td>\n",
       "      <td>0.381594</td>\n",
       "    </tr>\n",
       "    <tr>\n",
       "      <th>std</th>\n",
       "      <td>0.486592</td>\n",
       "      <td>0.836071</td>\n",
       "      <td>14.526497</td>\n",
       "      <td>1.102743</td>\n",
       "      <td>0.806057</td>\n",
       "    </tr>\n",
       "    <tr>\n",
       "      <th>min</th>\n",
       "      <td>0.000000</td>\n",
       "      <td>1.000000</td>\n",
       "      <td>0.420000</td>\n",
       "      <td>0.000000</td>\n",
       "      <td>0.000000</td>\n",
       "    </tr>\n",
       "    <tr>\n",
       "      <th>10%</th>\n",
       "      <td>0.000000</td>\n",
       "      <td>1.000000</td>\n",
       "      <td>14.000000</td>\n",
       "      <td>0.000000</td>\n",
       "      <td>0.000000</td>\n",
       "    </tr>\n",
       "    <tr>\n",
       "      <th>25%</th>\n",
       "      <td>0.000000</td>\n",
       "      <td>2.000000</td>\n",
       "      <td>20.125000</td>\n",
       "      <td>0.000000</td>\n",
       "      <td>0.000000</td>\n",
       "    </tr>\n",
       "    <tr>\n",
       "      <th>50%</th>\n",
       "      <td>0.000000</td>\n",
       "      <td>3.000000</td>\n",
       "      <td>28.000000</td>\n",
       "      <td>0.000000</td>\n",
       "      <td>0.000000</td>\n",
       "    </tr>\n",
       "    <tr>\n",
       "      <th>75%</th>\n",
       "      <td>1.000000</td>\n",
       "      <td>3.000000</td>\n",
       "      <td>38.000000</td>\n",
       "      <td>1.000000</td>\n",
       "      <td>0.000000</td>\n",
       "    </tr>\n",
       "    <tr>\n",
       "      <th>90%</th>\n",
       "      <td>1.000000</td>\n",
       "      <td>3.000000</td>\n",
       "      <td>50.000000</td>\n",
       "      <td>1.000000</td>\n",
       "      <td>2.000000</td>\n",
       "    </tr>\n",
       "    <tr>\n",
       "      <th>max</th>\n",
       "      <td>1.000000</td>\n",
       "      <td>3.000000</td>\n",
       "      <td>80.000000</td>\n",
       "      <td>8.000000</td>\n",
       "      <td>6.000000</td>\n",
       "    </tr>\n",
       "  </tbody>\n",
       "</table>\n",
       "</div>"
      ],
      "text/plain": [
       "         Survived      Pclass         Age       SibSp       Parch\n",
       "count  891.000000  891.000000  714.000000  891.000000  891.000000\n",
       "mean     0.383838    2.308642   29.699118    0.523008    0.381594\n",
       "std      0.486592    0.836071   14.526497    1.102743    0.806057\n",
       "min      0.000000    1.000000    0.420000    0.000000    0.000000\n",
       "10%      0.000000    1.000000   14.000000    0.000000    0.000000\n",
       "25%      0.000000    2.000000   20.125000    0.000000    0.000000\n",
       "50%      0.000000    3.000000   28.000000    0.000000    0.000000\n",
       "75%      1.000000    3.000000   38.000000    1.000000    0.000000\n",
       "90%      1.000000    3.000000   50.000000    1.000000    2.000000\n",
       "max      1.000000    3.000000   80.000000    8.000000    6.000000"
      ]
     },
     "execution_count": 9,
     "metadata": {},
     "output_type": "execute_result"
    }
   ],
   "source": [
    "train_data.describe(percentiles=[0.1,0.25,0.5,0.75,0.9])"
   ]
  },
  {
   "cell_type": "markdown",
   "id": "e75dbcac",
   "metadata": {
    "papermill": {
     "duration": 0.009634,
     "end_time": "2023-04-29T18:57:20.027451",
     "exception": false,
     "start_time": "2023-04-29T18:57:20.017817",
     "status": "completed"
    },
    "tags": []
   },
   "source": [
    "**'columns' method to get the names of the columns (features)**\n"
   ]
  },
  {
   "cell_type": "code",
   "execution_count": 10,
   "id": "94d65b9d",
   "metadata": {
    "execution": {
     "iopub.execute_input": "2023-04-29T18:57:20.049843Z",
     "iopub.status.busy": "2023-04-29T18:57:20.049088Z",
     "iopub.status.idle": "2023-04-29T18:57:20.055624Z",
     "shell.execute_reply": "2023-04-29T18:57:20.054739Z"
    },
    "papermill": {
     "duration": 0.020654,
     "end_time": "2023-04-29T18:57:20.057982",
     "exception": false,
     "start_time": "2023-04-29T18:57:20.037328",
     "status": "completed"
    },
    "tags": []
   },
   "outputs": [
    {
     "data": {
      "text/plain": [
       "Index(['Survived', 'Pclass', 'Sex', 'Age', 'SibSp', 'Parch'], dtype='object')"
      ]
     },
     "execution_count": 10,
     "metadata": {},
     "output_type": "execute_result"
    }
   ],
   "source": [
    "train_data.columns"
   ]
  },
  {
   "cell_type": "markdown",
   "id": "8c98c5f4",
   "metadata": {
    "papermill": {
     "duration": 0.009836,
     "end_time": "2023-04-29T18:57:20.078175",
     "exception": false,
     "start_time": "2023-04-29T18:57:20.068339",
     "status": "completed"
    },
    "tags": []
   },
   "source": [
    "## Basic plotting and visualization on the data set\n",
    "\n",
    "**Pairplots using seaborn**\n"
   ]
  },
  {
   "cell_type": "code",
   "execution_count": 11,
   "id": "587bbd30",
   "metadata": {
    "execution": {
     "iopub.execute_input": "2023-04-29T18:57:20.100568Z",
     "iopub.status.busy": "2023-04-29T18:57:20.099812Z",
     "iopub.status.idle": "2023-04-29T18:57:25.418253Z",
     "shell.execute_reply": "2023-04-29T18:57:25.417151Z"
    },
    "papermill": {
     "duration": 5.333961,
     "end_time": "2023-04-29T18:57:25.422293",
     "exception": false,
     "start_time": "2023-04-29T18:57:20.088332",
     "status": "completed"
    },
    "tags": []
   },
   "outputs": [
    {
     "data": {
      "text/plain": [
       "<seaborn.axisgrid.PairGrid at 0x742c57da18d0>"
      ]
     },
     "execution_count": 11,
     "metadata": {},
     "output_type": "execute_result"
    },
    {
     "data": {
      "image/png": "[encoded data removed]",
      "text/plain": [
       "<Figure size 1250x1250 with 30 Axes>"
      ]
     },
     "metadata": {},
     "output_type": "display_data"
    }
   ],
   "source": [
    "sns.pairplot(train_data)"
   ]
  },
  {
   "cell_type": "markdown",
   "id": "b9f57e74",
   "metadata": {
    "papermill": {
     "duration": 0.011839,
     "end_time": "2023-04-29T18:57:25.446338",
     "exception": false,
     "start_time": "2023-04-29T18:57:25.434499",
     "status": "completed"
    },
    "tags": []
   },
   "source": [
    "**Correlation matrix and heatmap**"
   ]
  },
  {
   "cell_type": "code",
   "execution_count": 12,
   "id": "3742a24a",
   "metadata": {
    "execution": {
     "iopub.execute_input": "2023-04-29T18:57:25.472573Z",
     "iopub.status.busy": "2023-04-29T18:57:25.471734Z",
     "iopub.status.idle": "2023-04-29T18:57:25.487110Z",
     "shell.execute_reply": "2023-04-29T18:57:25.485955Z"
    },
    "papermill": {
     "duration": 0.031221,
     "end_time": "2023-04-29T18:57:25.489524",
     "exception": false,
     "start_time": "2023-04-29T18:57:25.458303",
     "status": "completed"
    },
    "tags": []
   },
   "outputs": [
    {
     "data": {
      "text/html": [
       "<div>\n",
       "<style scoped>\n",
       "    .dataframe tbody tr th:only-of-type {\n",
       "        vertical-align: middle;\n",
       "    }\n",
       "\n",
       "    .dataframe tbody tr th {\n",
       "        vertical-align: top;\n",
       "    }\n",
       "\n",
       "    .dataframe thead th {\n",
       "        text-align: right;\n",
       "    }\n",
       "</style>\n",
       "<table border=\"1\" class=\"dataframe\">\n",
       "  <thead>\n",
       "    <tr style=\"text-align: right;\">\n",
       "      <th></th>\n",
       "      <th>Survived</th>\n",
       "      <th>Pclass</th>\n",
       "      <th>Age</th>\n",
       "      <th>SibSp</th>\n",
       "      <th>Parch</th>\n",
       "    </tr>\n",
       "  </thead>\n",
       "  <tbody>\n",
       "    <tr>\n",
       "      <th>Survived</th>\n",
       "      <td>1.000000</td>\n",
       "      <td>-0.338481</td>\n",
       "      <td>-0.077221</td>\n",
       "      <td>-0.035322</td>\n",
       "      <td>0.081629</td>\n",
       "    </tr>\n",
       "    <tr>\n",
       "      <th>Pclass</th>\n",
       "      <td>-0.338481</td>\n",
       "      <td>1.000000</td>\n",
       "      <td>-0.369226</td>\n",
       "      <td>0.083081</td>\n",
       "      <td>0.018443</td>\n",
       "    </tr>\n",
       "    <tr>\n",
       "      <th>Age</th>\n",
       "      <td>-0.077221</td>\n",
       "      <td>-0.369226</td>\n",
       "      <td>1.000000</td>\n",
       "      <td>-0.308247</td>\n",
       "      <td>-0.189119</td>\n",
       "    </tr>\n",
       "    <tr>\n",
       "      <th>SibSp</th>\n",
       "      <td>-0.035322</td>\n",
       "      <td>0.083081</td>\n",
       "      <td>-0.308247</td>\n",
       "      <td>1.000000</td>\n",
       "      <td>0.414838</td>\n",
       "    </tr>\n",
       "    <tr>\n",
       "      <th>Parch</th>\n",
       "      <td>0.081629</td>\n",
       "      <td>0.018443</td>\n",
       "      <td>-0.189119</td>\n",
       "      <td>0.414838</td>\n",
       "      <td>1.000000</td>\n",
       "    </tr>\n",
       "  </tbody>\n",
       "</table>\n",
       "</div>"
      ],
      "text/plain": [
       "          Survived    Pclass       Age     SibSp     Parch\n",
       "Survived  1.000000 -0.338481 -0.077221 -0.035322  0.081629\n",
       "Pclass   -0.338481  1.000000 -0.369226  0.083081  0.018443\n",
       "Age      -0.077221 -0.369226  1.000000 -0.308247 -0.189119\n",
       "SibSp    -0.035322  0.083081 -0.308247  1.000000  0.414838\n",
       "Parch     0.081629  0.018443 -0.189119  0.414838  1.000000"
      ]
     },
     "execution_count": 12,
     "metadata": {},
     "output_type": "execute_result"
    }
   ],
   "source": [
    "train_data.corr()"
   ]
  },
  {
   "cell_type": "code",
   "execution_count": 13,
   "id": "0a01da57",
   "metadata": {
    "execution": {
     "iopub.execute_input": "2023-04-29T18:57:25.516214Z",
     "iopub.status.busy": "2023-04-29T18:57:25.515075Z",
     "iopub.status.idle": "2023-04-29T18:57:25.896894Z",
     "shell.execute_reply": "2023-04-29T18:57:25.895629Z"
    },
    "papermill": {
     "duration": 0.397747,
     "end_time": "2023-04-29T18:57:25.899414",
     "exception": false,
     "start_time": "2023-04-29T18:57:25.501667",
     "status": "completed"
    },
    "tags": []
   },
   "outputs": [
    {
     "data": {
      "text/plain": [
       "<AxesSubplot:>"
      ]
     },
     "execution_count": 13,
     "metadata": {},
     "output_type": "execute_result"
    },
    {
     "data": {
      "image/png": "[encoded data removed]",
      "text/plain": [
       "<Figure size 1000x700 with 2 Axes>"
      ]
     },
     "metadata": {},
     "output_type": "display_data"
    }
   ],
   "source": [
    "plt.figure(figsize=(10,7))\n",
    "sns.heatmap(train_data.corr(),annot=True,linewidths=2)"
   ]
  },
  {
   "cell_type": "markdown",
   "id": "eb589ae2",
   "metadata": {
    "papermill": {
     "duration": 0.012765,
     "end_time": "2023-04-29T18:57:25.925357",
     "exception": false,
     "start_time": "2023-04-29T18:57:25.912592",
     "status": "completed"
    },
    "tags": []
   },
   "source": [
    "## Split Dataset into Train and Validate"
   ]
  },
  {
   "cell_type": "code",
   "execution_count": 14,
   "id": "35621ace",
   "metadata": {
    "execution": {
     "iopub.execute_input": "2023-04-29T18:57:25.953637Z",
     "iopub.status.busy": "2023-04-29T18:57:25.952745Z",
     "iopub.status.idle": "2023-04-29T18:57:26.197957Z",
     "shell.execute_reply": "2023-04-29T18:57:26.196315Z"
    },
    "papermill": {
     "duration": 0.262232,
     "end_time": "2023-04-29T18:57:26.200589",
     "exception": false,
     "start_time": "2023-04-29T18:57:25.938357",
     "status": "completed"
    },
    "tags": []
   },
   "outputs": [
    {
     "name": "stdout",
     "output_type": "stream",
     "text": [
      "Training feature set size: (668, 5)\n",
      "Validation feature set size: (223, 5)\n",
      "Training variable set size: (668,)\n",
      "Validation variable set size: (223,)\n"
     ]
    }
   ],
   "source": [
    "from sklearn.model_selection import train_test_split\n",
    "\n",
    "# Separate target from predictors\n",
    "y = train_data.Survived\n",
    "X = train_data.drop(['Survived'], axis=1)\n",
    "\n",
    "# Divide data into training and validation subsets\n",
    "X_train_full, X_valid_full, y_train, y_valid = train_test_split(X, y, train_size=0.75, test_size=0.25,\n",
    "                                                                random_state=1)\n",
    "\n",
    "print(\"Training feature set size:\",X_train_full.shape)\n",
    "print(\"Validation feature set size:\",X_valid_full.shape)\n",
    "print(\"Training variable set size:\",y_train.shape)\n",
    "print(\"Validation variable set size:\",y_valid.shape)"
   ]
  },
  {
   "cell_type": "markdown",
   "id": "1c97dac5",
   "metadata": {
    "papermill": {
     "duration": 0.012968,
     "end_time": "2023-04-29T18:57:26.226899",
     "exception": false,
     "start_time": "2023-04-29T18:57:26.213931",
     "status": "completed"
    },
    "tags": []
   },
   "source": [
    "## Creating a Pipeline"
   ]
  },
  {
   "cell_type": "code",
   "execution_count": 15,
   "id": "5a85c2a7",
   "metadata": {
    "execution": {
     "iopub.execute_input": "2023-04-29T18:57:26.256480Z",
     "iopub.status.busy": "2023-04-29T18:57:26.256033Z",
     "iopub.status.idle": "2023-04-29T18:57:26.268470Z",
     "shell.execute_reply": "2023-04-29T18:57:26.267367Z"
    },
    "papermill": {
     "duration": 0.029814,
     "end_time": "2023-04-29T18:57:26.270699",
     "exception": false,
     "start_time": "2023-04-29T18:57:26.240885",
     "status": "completed"
    },
    "tags": []
   },
   "outputs": [],
   "source": [
    "# \"Cardinality\" means the number of unique values in a column\n",
    "# Select categorical columns with relatively low cardinality (convenient but arbitrary)\n",
    "categorical_cols = [cname for cname in X_train_full.columns if X_train_full[cname].nunique() < 10 and \n",
    "                        X_train_full[cname].dtype == \"object\"]\n",
    "\n",
    "# Select numerical columns\n",
    "numerical_cols = [cname for cname in X_train_full.columns if X_train_full[cname].dtype in ['int64', 'float64']]\n",
    "\n",
    "# Keep selected columns only\n",
    "my_cols = categorical_cols + numerical_cols\n",
    "X_train = X_train_full[my_cols].copy()\n",
    "X_valid = X_valid_full[my_cols].copy()"
   ]
  },
  {
   "cell_type": "markdown",
   "id": "b5b25ec8",
   "metadata": {
    "papermill": {
     "duration": 0.013016,
     "end_time": "2023-04-29T18:57:26.297135",
     "exception": false,
     "start_time": "2023-04-29T18:57:26.284119",
     "status": "completed"
    },
    "tags": []
   },
   "source": [
    "Define Pre-Processing steps"
   ]
  },
  {
   "cell_type": "code",
   "execution_count": 16,
   "id": "e26d2555",
   "metadata": {
    "execution": {
     "iopub.execute_input": "2023-04-29T18:57:26.326387Z",
     "iopub.status.busy": "2023-04-29T18:57:26.325245Z",
     "iopub.status.idle": "2023-04-29T18:57:26.545505Z",
     "shell.execute_reply": "2023-04-29T18:57:26.544497Z"
    },
    "papermill": {
     "duration": 0.237636,
     "end_time": "2023-04-29T18:57:26.548158",
     "exception": false,
     "start_time": "2023-04-29T18:57:26.310522",
     "status": "completed"
    },
    "tags": []
   },
   "outputs": [],
   "source": [
    "from sklearn.compose import ColumnTransformer\n",
    "from sklearn.pipeline import Pipeline\n",
    "from sklearn.impute import SimpleImputer\n",
    "from sklearn.preprocessing import OneHotEncoder\n",
    "\n",
    "# Preprocessing for numerical data\n",
    "numerical_transformer = SimpleImputer(strategy='most_frequent')\n",
    "\n",
    "# Preprocessing for categorical data\n",
    "categorical_transformer = Pipeline(steps=[\n",
    "    ('imputer', SimpleImputer(strategy='most_frequent')),\n",
    "    ('onehot', OneHotEncoder(handle_unknown='ignore'))\n",
    "])\n",
    "\n",
    "# Bundle preprocessing for numerical and categorical data\n",
    "preprocessor = ColumnTransformer(\n",
    "    transformers=[\n",
    "        ('num', numerical_transformer, numerical_cols),\n",
    "        ('cat', categorical_transformer, categorical_cols)\n",
    "    ])\n"
   ]
  },
  {
   "cell_type": "markdown",
   "id": "e6faf914",
   "metadata": {
    "papermill": {
     "duration": 0.013329,
     "end_time": "2023-04-29T18:57:26.575215",
     "exception": false,
     "start_time": "2023-04-29T18:57:26.561886",
     "status": "completed"
    },
    "tags": []
   },
   "source": [
    "Define the model"
   ]
  },
  {
   "cell_type": "code",
   "execution_count": 17,
   "id": "bf50f6ea",
   "metadata": {
    "execution": {
     "iopub.execute_input": "2023-04-29T18:57:26.604882Z",
     "iopub.status.busy": "2023-04-29T18:57:26.603631Z",
     "iopub.status.idle": "2023-04-29T18:57:26.706478Z",
     "shell.execute_reply": "2023-04-29T18:57:26.705201Z"
    },
    "papermill": {
     "duration": 0.120558,
     "end_time": "2023-04-29T18:57:26.709274",
     "exception": false,
     "start_time": "2023-04-29T18:57:26.588716",
     "status": "completed"
    },
    "tags": []
   },
   "outputs": [],
   "source": [
    "# Commenting RandomForestRegressor\n",
    "\"\"\"\n",
    "from sklearn.ensemble import RandomForestRegressor\n",
    "\n",
    "model = RandomForestRegressor(n_estimators=250, random_state=0)\n",
    "\"\"\"\n",
    "# XGBoost\n",
    "from xgboost import XGBClassifier\n",
    "\n",
    "# Define the model\n",
    "model = XGBClassifier(n_estimators = 100, learning_rate = 0.01, random_state=0) # "
   ]
  },
  {
   "cell_type": "markdown",
   "id": "6274d429",
   "metadata": {
    "papermill": {
     "duration": 0.012842,
     "end_time": "2023-04-29T18:57:26.735690",
     "exception": false,
     "start_time": "2023-04-29T18:57:26.722848",
     "status": "completed"
    },
    "tags": []
   },
   "source": [
    "Create and Evaluate the Pipeline"
   ]
  },
  {
   "cell_type": "code",
   "execution_count": 18,
   "id": "e52dd952",
   "metadata": {
    "execution": {
     "iopub.execute_input": "2023-04-29T18:57:26.764181Z",
     "iopub.status.busy": "2023-04-29T18:57:26.763739Z",
     "iopub.status.idle": "2023-04-29T18:57:27.326407Z",
     "shell.execute_reply": "2023-04-29T18:57:27.325334Z"
    },
    "papermill": {
     "duration": 0.579984,
     "end_time": "2023-04-29T18:57:27.328947",
     "exception": false,
     "start_time": "2023-04-29T18:57:26.748963",
     "status": "completed"
    },
    "tags": []
   },
   "outputs": [
    {
     "name": "stdout",
     "output_type": "stream",
     "text": [
      "MAE: 0.2062780269058296\n"
     ]
    }
   ],
   "source": [
    "from sklearn.metrics import mean_absolute_error\n",
    "\n",
    "# Bundle preprocessing and modeling code in a pipeline\n",
    "my_pipeline = Pipeline(steps=[('preprocessor', preprocessor),\n",
    "                              ('model', model)\n",
    "                             ])\n",
    "\n",
    "# Preprocessing of training data, fit model \n",
    "my_pipeline.fit(X_train, y_train)\n",
    "\n",
    "# Preprocessing of validation data, get predictions\n",
    "preds = my_pipeline.predict(X_valid)\n",
    "\n",
    "# Evaluate the model\n",
    "score = mean_absolute_error(y_valid, preds)\n",
    "print('MAE:', score)\n"
   ]
  },
  {
   "cell_type": "code",
   "execution_count": 19,
   "id": "a3341a25",
   "metadata": {
    "execution": {
     "iopub.execute_input": "2023-04-29T18:57:27.357300Z",
     "iopub.status.busy": "2023-04-29T18:57:27.356828Z",
     "iopub.status.idle": "2023-04-29T18:57:27.375614Z",
     "shell.execute_reply": "2023-04-29T18:57:27.374145Z"
    },
    "papermill": {
     "duration": 0.036692,
     "end_time": "2023-04-29T18:57:27.378782",
     "exception": false,
     "start_time": "2023-04-29T18:57:27.342090",
     "status": "completed"
    },
    "tags": []
   },
   "outputs": [
    {
     "name": "stdout",
     "output_type": "stream",
     "text": [
      "<class 'pandas.core.frame.DataFrame'>\n",
      "RangeIndex: 418 entries, 0 to 417\n",
      "Data columns (total 11 columns):\n",
      " #   Column       Non-Null Count  Dtype  \n",
      "---  ------       --------------  -----  \n",
      " 0   PassengerId  418 non-null    int64  \n",
      " 1   Pclass       418 non-null    int64  \n",
      " 2   Name         418 non-null    object \n",
      " 3   Sex          418 non-null    object \n",
      " 4   Age          332 non-null    float64\n",
      " 5   SibSp        418 non-null    int64  \n",
      " 6   Parch        418 non-null    int64  \n",
      " 7   Ticket       418 non-null    object \n",
      " 8   Fare         417 non-null    float64\n",
      " 9   Cabin        91 non-null     object \n",
      " 10  Embarked     418 non-null    object \n",
      "dtypes: float64(2), int64(4), object(5)\n",
      "memory usage: 36.0+ KB\n"
     ]
    }
   ],
   "source": [
    "test_original = pd.read_csv(\"/kaggle/input/titanic/test.csv\")\n",
    "test_original.info()"
   ]
  },
  {
   "cell_type": "code",
   "execution_count": 20,
   "id": "5fae5ed5",
   "metadata": {
    "execution": {
     "iopub.execute_input": "2023-04-29T18:57:27.409002Z",
     "iopub.status.busy": "2023-04-29T18:57:27.408135Z",
     "iopub.status.idle": "2023-04-29T18:57:27.438413Z",
     "shell.execute_reply": "2023-04-29T18:57:27.436838Z"
    },
    "papermill": {
     "duration": 0.048207,
     "end_time": "2023-04-29T18:57:27.440846",
     "exception": false,
     "start_time": "2023-04-29T18:57:27.392639",
     "status": "completed"
    },
    "tags": []
   },
   "outputs": [
    {
     "name": "stdout",
     "output_type": "stream",
     "text": [
      "Your submission was successfully saved!\n"
     ]
    }
   ],
   "source": [
    "preds = my_pipeline.predict(test_data)\n",
    "\n",
    "output = pd.DataFrame({'PassengerId': test_original.PassengerId, 'Survived': preds})\n",
    "\n",
    "output['Survived'] = output['Survived'].apply(lambda x: 0 if x<= 0.5 else 1)\n",
    "\n",
    "output.to_csv('submission.csv', index=False)\n",
    "print(\"Your submission was successfully saved!\")"
   ]
  },
  {
   "cell_type": "markdown",
   "id": "ba30b009",
   "metadata": {
    "papermill": {
     "duration": 0.013046,
     "end_time": "2023-04-29T18:57:27.467293",
     "exception": false,
     "start_time": "2023-04-29T18:57:27.454247",
     "status": "completed"
    },
    "tags": []
   },
   "source": [
    "## Perform a cross-validation"
   ]
  },
  {
   "cell_type": "code",
   "execution_count": 21,
   "id": "f50405f8",
   "metadata": {
    "execution": {
     "iopub.execute_input": "2023-04-29T18:57:27.496751Z",
     "iopub.status.busy": "2023-04-29T18:57:27.495863Z",
     "iopub.status.idle": "2023-04-29T18:57:30.270171Z",
     "shell.execute_reply": "2023-04-29T18:57:30.269002Z"
    },
    "papermill": {
     "duration": 2.792019,
     "end_time": "2023-04-29T18:57:30.272815",
     "exception": false,
     "start_time": "2023-04-29T18:57:27.480796",
     "status": "completed"
    },
    "tags": []
   },
   "outputs": [
    {
     "name": "stdout",
     "output_type": "stream",
     "text": [
      "MAE scores:\n",
      " [0.21076233 0.15695067 0.20179372 0.15765766]\n",
      "Average MAE score (across experiments):\n",
      "0.1817910960287642\n"
     ]
    }
   ],
   "source": [
    "from sklearn.model_selection import cross_val_score\n",
    "\n",
    "# Multiply by -1 since sklearn calculates *negative* MAE\n",
    "scores = -1 * cross_val_score(my_pipeline, X, y,\n",
    "                              cv=4,\n",
    "                              scoring='neg_mean_absolute_error')\n",
    "\n",
    "print(\"MAE scores:\\n\", scores)\n",
    "\n",
    "print(\"Average MAE score (across experiments):\")\n",
    "print(scores.mean())"
   ]
  },
  {
   "cell_type": "code",
   "execution_count": 22,
   "id": "46dc7637",
   "metadata": {
    "execution": {
     "iopub.execute_input": "2023-04-29T18:57:30.302818Z",
     "iopub.status.busy": "2023-04-29T18:57:30.301916Z",
     "iopub.status.idle": "2023-04-29T18:57:30.309988Z",
     "shell.execute_reply": "2023-04-29T18:57:30.308718Z"
    },
    "papermill": {
     "duration": 0.025695,
     "end_time": "2023-04-29T18:57:30.312295",
     "exception": false,
     "start_time": "2023-04-29T18:57:30.286600",
     "status": "completed"
    },
    "tags": []
   },
   "outputs": [
    {
     "name": "stdout",
     "output_type": "stream",
     "text": [
      "% of women who survived: 0.7420382165605095\n"
     ]
    }
   ],
   "source": [
    "women = train_data.loc[train_data.Sex == 'female'][\"Survived\"]\n",
    "rate_women = sum(women)/len(women)\n",
    "\n",
    "print(\"% of women who survived:\", rate_women)"
   ]
  },
  {
   "cell_type": "code",
   "execution_count": 23,
   "id": "cada5e83",
   "metadata": {
    "execution": {
     "iopub.execute_input": "2023-04-29T18:57:30.342248Z",
     "iopub.status.busy": "2023-04-29T18:57:30.341056Z",
     "iopub.status.idle": "2023-04-29T18:57:30.349096Z",
     "shell.execute_reply": "2023-04-29T18:57:30.347936Z"
    },
    "papermill": {
     "duration": 0.025289,
     "end_time": "2023-04-29T18:57:30.351336",
     "exception": false,
     "start_time": "2023-04-29T18:57:30.326047",
     "status": "completed"
    },
    "tags": []
   },
   "outputs": [
    {
     "name": "stdout",
     "output_type": "stream",
     "text": [
      "% of men who survived: 0.18890814558058924\n"
     ]
    }
   ],
   "source": [
    "men = train_data.loc[train_data.Sex == 'male'][\"Survived\"]\n",
    "rate_men = sum(men)/len(men)\n",
    "\n",
    "print(\"% of men who survived:\", rate_men)"
   ]
  },
  {
   "cell_type": "markdown",
   "id": "dd036c3c",
   "metadata": {
    "papermill": {
     "duration": 0.013176,
     "end_time": "2023-04-29T18:57:30.378144",
     "exception": false,
     "start_time": "2023-04-29T18:57:30.364968",
     "status": "completed"
    },
    "tags": []
   },
   "source": [
    "Verify additional data to add in the model"
   ]
  },
  {
   "cell_type": "code",
   "execution_count": 24,
   "id": "93276e49",
   "metadata": {
    "execution": {
     "iopub.execute_input": "2023-04-29T18:57:30.407319Z",
     "iopub.status.busy": "2023-04-29T18:57:30.406837Z",
     "iopub.status.idle": "2023-04-29T18:57:30.691060Z",
     "shell.execute_reply": "2023-04-29T18:57:30.689685Z"
    },
    "papermill": {
     "duration": 0.302055,
     "end_time": "2023-04-29T18:57:30.693854",
     "exception": false,
     "start_time": "2023-04-29T18:57:30.391799",
     "status": "completed"
    },
    "tags": []
   },
   "outputs": [
    {
     "name": "stdout",
     "output_type": "stream",
     "text": [
      "Qtd null values:  177\n",
      "891\n"
     ]
    },
    {
     "data": {
      "image/png": "[encoded data removed]",
      "text/plain": [
       "<Figure size 640x480 with 1 Axes>"
      ]
     },
     "metadata": {},
     "output_type": "display_data"
    }
   ],
   "source": [
    "sns.histplot(data = train_data, x = \"Age\")\n",
    "print('Qtd null values: ', train_data['Age'].isnull().sum())\n",
    "print(len(train_data))"
   ]
  },
  {
   "cell_type": "markdown",
   "id": "8a23fac1",
   "metadata": {
    "execution": {
     "iopub.execute_input": "2023-04-08T18:16:56.153492Z",
     "iopub.status.busy": "2023-04-08T18:16:56.153028Z",
     "iopub.status.idle": "2023-04-08T18:16:56.338825Z",
     "shell.execute_reply": "2023-04-08T18:16:56.337496Z",
     "shell.execute_reply.started": "2023-04-08T18:16:56.153450Z"
    },
    "papermill": {
     "duration": 0.01397,
     "end_time": "2023-04-29T18:57:30.722692",
     "exception": false,
     "start_time": "2023-04-29T18:57:30.708722",
     "status": "completed"
    },
    "tags": []
   },
   "source": [
    "from sklearn.ensemble import RandomForestClassifier\n",
    "\n",
    "#https://www.kaggle.com/code/dansbecker/handling-missing-values/notebook\n",
    "#Missing Values without droping data\n",
    "from sklearn.impute import SimpleImputer\n",
    "my_imputer = SimpleImputer()\n",
    "\n",
    "y = train_data[\"Survived\"]\n",
    "\n",
    "features = [\"Pclass\", \"Sex\", \"SibSp\", \"Parch\"]\n",
    "X = pd.get_dummies(train_data[features])\n",
    "X_test = pd.get_dummies(test_data[features])\n",
    "\n",
    "X['Fare'] = train_data['Fare']\n",
    "X_test['Fare'] = test_data['Fare']\n",
    "\n",
    "X_test_with_imputed_values = my_imputer.fit_transform(X_test)\n",
    "\n",
    "model = RandomForestClassifier(n_estimators=100, max_depth=5, random_state=1)\n",
    "model.fit(X, y)\n",
    "#original\n",
    "#predictions = model.predict(X_test)\n",
    "predictions = model.predict(X_test_with_imputed_values)\n",
    "\n",
    "output = pd.DataFrame({'PassengerId': test_data.PassengerId, 'Survived': predictions})\n",
    "output.to_csv('submission.csv', index=False)\n",
    "print(\"Your submission was successfully saved!\")"
   ]
  }
 ],
 "metadata": {
  "kernelspec": {
   "display_name": "Python 3",
   "language": "python",
   "name": "python3"
  },
  "language_info": {
   "codemirror_mode": {
    "name": "ipython",
    "version": 3
   },
   "file_extension": ".py",
   "mimetype": "text/x-python",
   "name": "python",
   "nbconvert_exporter": "python",
   "pygments_lexer": "ipython3",
   "version": "3.7.12"
  },
  "papermill": {
   "default_parameters": {},
   "duration": 24.433421,
   "end_time": "2023-04-29T18:57:31.660401",
   "environment_variables": {},
   "exception": null,
   "input_path": "__notebook__.ipynb",
   "output_path": "__notebook__.ipynb",
   "parameters": {},
   "start_time": "2023-04-29T18:57:07.226980",
   "version": "2.4.0"
  }
 },
 "nbformat": 4,
 "nbformat_minor": 5
}
