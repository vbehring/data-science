{
 "cells": [
  {
   "cell_type": "code",
   "execution_count": 1,
   "id": "419ae119",
   "metadata": {
    "_cell_guid": "b1076dfc-b9ad-4769-8c92-a6c4dae69d19",
    "_uuid": "8f2839f25d086af736a60e9eeb907d3b93b6e0e5",
    "execution": {
     "iopub.execute_input": "2023-05-20T19:58:07.082954Z",
     "iopub.status.busy": "2023-05-20T19:58:07.082532Z",
     "iopub.status.idle": "2023-05-20T19:58:08.751678Z",
     "shell.execute_reply": "2023-05-20T19:58:08.750182Z"
    },
    "papermill": {
     "duration": 1.681063,
     "end_time": "2023-05-20T19:58:08.755081",
     "exception": false,
     "start_time": "2023-05-20T19:58:07.074018",
     "status": "completed"
    },
    "tags": []
   },
   "outputs": [
    {
     "name": "stderr",
     "output_type": "stream",
     "text": [
      "/opt/conda/lib/python3.10/site-packages/scipy/__init__.py:146: UserWarning: A NumPy version >=1.16.5 and <1.23.0 is required for this version of SciPy (detected version 1.23.5\n",
      "  warnings.warn(f\"A NumPy version >={np_minversion} and <{np_maxversion}\"\n"
     ]
    },
    {
     "name": "stdout",
     "output_type": "stream",
     "text": [
      "/kaggle/input/salary-dataset-simple-linear-regression/Salary_dataset.csv\n"
     ]
    }
   ],
   "source": [
    "# This Python 3 environment comes with many helpful analytics libraries installed\n",
    "# It is defined by the kaggle/python Docker image: https://github.com/kaggle/docker-python\n",
    "# For example, here's several helpful packages to load\n",
    "\n",
    "import numpy as np # linear algebra\n",
    "import pandas as pd # data processing, CSV file I/O (e.g. pd.read_csv)\n",
    "\n",
    "pd.plotting.register_matplotlib_converters()\n",
    "import matplotlib.pyplot as plt\n",
    "%matplotlib inline\n",
    "import seaborn as sns\n",
    "\n",
    "# Input data files are available in the read-only \"../input/\" directory\n",
    "# For example, running this (by clicking run or pressing Shift+Enter) will list all files under the input directory\n",
    "\n",
    "import os\n",
    "for dirname, _, filenames in os.walk('/kaggle/input'):\n",
    "    for filename in filenames:\n",
    "        print(os.path.join(dirname, filename))\n",
    "\n",
    "# You can write up to 20GB to the current directory (/kaggle/working/) that gets preserved as output when you create a version using \"Save & Run All\" \n",
    "# You can also write temporary files to /kaggle/temp/, but they won't be saved outside of the current session"
   ]
  },
  {
   "cell_type": "markdown",
   "id": "cf427831",
   "metadata": {
    "papermill": {
     "duration": 0.006167,
     "end_time": "2023-05-20T19:58:08.767935",
     "exception": false,
     "start_time": "2023-05-20T19:58:08.761768",
     "status": "completed"
    },
    "tags": []
   },
   "source": [
    "# Load Data\n"
   ]
  },
  {
   "cell_type": "code",
   "execution_count": 2,
   "id": "bd7fd923",
   "metadata": {
    "execution": {
     "iopub.execute_input": "2023-05-20T19:58:08.783282Z",
     "iopub.status.busy": "2023-05-20T19:58:08.782450Z",
     "iopub.status.idle": "2023-05-20T19:58:08.808864Z",
     "shell.execute_reply": "2023-05-20T19:58:08.807492Z"
    },
    "papermill": {
     "duration": 0.037539,
     "end_time": "2023-05-20T19:58:08.811970",
     "exception": false,
     "start_time": "2023-05-20T19:58:08.774431",
     "status": "completed"
    },
    "tags": []
   },
   "outputs": [],
   "source": [
    "df = pd.read_csv('/kaggle/input/salary-dataset-simple-linear-regression/Salary_dataset.csv')"
   ]
  },
  {
   "cell_type": "markdown",
   "id": "c5792fd9",
   "metadata": {
    "papermill": {
     "duration": 0.006401,
     "end_time": "2023-05-20T19:58:08.825346",
     "exception": false,
     "start_time": "2023-05-20T19:58:08.818945",
     "status": "completed"
    },
    "tags": []
   },
   "source": [
    "# View Data"
   ]
  },
  {
   "cell_type": "code",
   "execution_count": 3,
   "id": "b2f7ea74",
   "metadata": {
    "execution": {
     "iopub.execute_input": "2023-05-20T19:58:08.839848Z",
     "iopub.status.busy": "2023-05-20T19:58:08.839427Z",
     "iopub.status.idle": "2023-05-20T19:58:08.881717Z",
     "shell.execute_reply": "2023-05-20T19:58:08.880251Z"
    },
    "papermill": {
     "duration": 0.052896,
     "end_time": "2023-05-20T19:58:08.884785",
     "exception": false,
     "start_time": "2023-05-20T19:58:08.831889",
     "status": "completed"
    },
    "tags": []
   },
   "outputs": [
    {
     "data": {
      "text/html": [
       "<div>\n",
       "<style scoped>\n",
       "    .dataframe tbody tr th:only-of-type {\n",
       "        vertical-align: middle;\n",
       "    }\n",
       "\n",
       "    .dataframe tbody tr th {\n",
       "        vertical-align: top;\n",
       "    }\n",
       "\n",
       "    .dataframe thead th {\n",
       "        text-align: right;\n",
       "    }\n",
       "</style>\n",
       "<table border=\"1\" class=\"dataframe\">\n",
       "  <thead>\n",
       "    <tr style=\"text-align: right;\">\n",
       "      <th></th>\n",
       "      <th>Unnamed: 0</th>\n",
       "      <th>YearsExperience</th>\n",
       "      <th>Salary</th>\n",
       "    </tr>\n",
       "  </thead>\n",
       "  <tbody>\n",
       "    <tr>\n",
       "      <th>0</th>\n",
       "      <td>0</td>\n",
       "      <td>1.2</td>\n",
       "      <td>39344.0</td>\n",
       "    </tr>\n",
       "    <tr>\n",
       "      <th>1</th>\n",
       "      <td>1</td>\n",
       "      <td>1.4</td>\n",
       "      <td>46206.0</td>\n",
       "    </tr>\n",
       "    <tr>\n",
       "      <th>2</th>\n",
       "      <td>2</td>\n",
       "      <td>1.6</td>\n",
       "      <td>37732.0</td>\n",
       "    </tr>\n",
       "    <tr>\n",
       "      <th>3</th>\n",
       "      <td>3</td>\n",
       "      <td>2.1</td>\n",
       "      <td>43526.0</td>\n",
       "    </tr>\n",
       "    <tr>\n",
       "      <th>4</th>\n",
       "      <td>4</td>\n",
       "      <td>2.3</td>\n",
       "      <td>39892.0</td>\n",
       "    </tr>\n",
       "    <tr>\n",
       "      <th>5</th>\n",
       "      <td>5</td>\n",
       "      <td>3.0</td>\n",
       "      <td>56643.0</td>\n",
       "    </tr>\n",
       "    <tr>\n",
       "      <th>6</th>\n",
       "      <td>6</td>\n",
       "      <td>3.1</td>\n",
       "      <td>60151.0</td>\n",
       "    </tr>\n",
       "    <tr>\n",
       "      <th>7</th>\n",
       "      <td>7</td>\n",
       "      <td>3.3</td>\n",
       "      <td>54446.0</td>\n",
       "    </tr>\n",
       "    <tr>\n",
       "      <th>8</th>\n",
       "      <td>8</td>\n",
       "      <td>3.3</td>\n",
       "      <td>64446.0</td>\n",
       "    </tr>\n",
       "    <tr>\n",
       "      <th>9</th>\n",
       "      <td>9</td>\n",
       "      <td>3.8</td>\n",
       "      <td>57190.0</td>\n",
       "    </tr>\n",
       "    <tr>\n",
       "      <th>10</th>\n",
       "      <td>10</td>\n",
       "      <td>4.0</td>\n",
       "      <td>63219.0</td>\n",
       "    </tr>\n",
       "    <tr>\n",
       "      <th>11</th>\n",
       "      <td>11</td>\n",
       "      <td>4.1</td>\n",
       "      <td>55795.0</td>\n",
       "    </tr>\n",
       "    <tr>\n",
       "      <th>12</th>\n",
       "      <td>12</td>\n",
       "      <td>4.1</td>\n",
       "      <td>56958.0</td>\n",
       "    </tr>\n",
       "    <tr>\n",
       "      <th>13</th>\n",
       "      <td>13</td>\n",
       "      <td>4.2</td>\n",
       "      <td>57082.0</td>\n",
       "    </tr>\n",
       "    <tr>\n",
       "      <th>14</th>\n",
       "      <td>14</td>\n",
       "      <td>4.6</td>\n",
       "      <td>61112.0</td>\n",
       "    </tr>\n",
       "    <tr>\n",
       "      <th>15</th>\n",
       "      <td>15</td>\n",
       "      <td>5.0</td>\n",
       "      <td>67939.0</td>\n",
       "    </tr>\n",
       "    <tr>\n",
       "      <th>16</th>\n",
       "      <td>16</td>\n",
       "      <td>5.2</td>\n",
       "      <td>66030.0</td>\n",
       "    </tr>\n",
       "    <tr>\n",
       "      <th>17</th>\n",
       "      <td>17</td>\n",
       "      <td>5.4</td>\n",
       "      <td>83089.0</td>\n",
       "    </tr>\n",
       "    <tr>\n",
       "      <th>18</th>\n",
       "      <td>18</td>\n",
       "      <td>6.0</td>\n",
       "      <td>81364.0</td>\n",
       "    </tr>\n",
       "    <tr>\n",
       "      <th>19</th>\n",
       "      <td>19</td>\n",
       "      <td>6.1</td>\n",
       "      <td>93941.0</td>\n",
       "    </tr>\n",
       "    <tr>\n",
       "      <th>20</th>\n",
       "      <td>20</td>\n",
       "      <td>6.9</td>\n",
       "      <td>91739.0</td>\n",
       "    </tr>\n",
       "    <tr>\n",
       "      <th>21</th>\n",
       "      <td>21</td>\n",
       "      <td>7.2</td>\n",
       "      <td>98274.0</td>\n",
       "    </tr>\n",
       "    <tr>\n",
       "      <th>22</th>\n",
       "      <td>22</td>\n",
       "      <td>8.0</td>\n",
       "      <td>101303.0</td>\n",
       "    </tr>\n",
       "    <tr>\n",
       "      <th>23</th>\n",
       "      <td>23</td>\n",
       "      <td>8.3</td>\n",
       "      <td>113813.0</td>\n",
       "    </tr>\n",
       "    <tr>\n",
       "      <th>24</th>\n",
       "      <td>24</td>\n",
       "      <td>8.8</td>\n",
       "      <td>109432.0</td>\n",
       "    </tr>\n",
       "    <tr>\n",
       "      <th>25</th>\n",
       "      <td>25</td>\n",
       "      <td>9.1</td>\n",
       "      <td>105583.0</td>\n",
       "    </tr>\n",
       "    <tr>\n",
       "      <th>26</th>\n",
       "      <td>26</td>\n",
       "      <td>9.6</td>\n",
       "      <td>116970.0</td>\n",
       "    </tr>\n",
       "    <tr>\n",
       "      <th>27</th>\n",
       "      <td>27</td>\n",
       "      <td>9.7</td>\n",
       "      <td>112636.0</td>\n",
       "    </tr>\n",
       "    <tr>\n",
       "      <th>28</th>\n",
       "      <td>28</td>\n",
       "      <td>10.4</td>\n",
       "      <td>122392.0</td>\n",
       "    </tr>\n",
       "    <tr>\n",
       "      <th>29</th>\n",
       "      <td>29</td>\n",
       "      <td>10.6</td>\n",
       "      <td>121873.0</td>\n",
       "    </tr>\n",
       "  </tbody>\n",
       "</table>\n",
       "</div>"
      ],
      "text/plain": [
       "    Unnamed: 0  YearsExperience    Salary\n",
       "0            0              1.2   39344.0\n",
       "1            1              1.4   46206.0\n",
       "2            2              1.6   37732.0\n",
       "3            3              2.1   43526.0\n",
       "4            4              2.3   39892.0\n",
       "5            5              3.0   56643.0\n",
       "6            6              3.1   60151.0\n",
       "7            7              3.3   54446.0\n",
       "8            8              3.3   64446.0\n",
       "9            9              3.8   57190.0\n",
       "10          10              4.0   63219.0\n",
       "11          11              4.1   55795.0\n",
       "12          12              4.1   56958.0\n",
       "13          13              4.2   57082.0\n",
       "14          14              4.6   61112.0\n",
       "15          15              5.0   67939.0\n",
       "16          16              5.2   66030.0\n",
       "17          17              5.4   83089.0\n",
       "18          18              6.0   81364.0\n",
       "19          19              6.1   93941.0\n",
       "20          20              6.9   91739.0\n",
       "21          21              7.2   98274.0\n",
       "22          22              8.0  101303.0\n",
       "23          23              8.3  113813.0\n",
       "24          24              8.8  109432.0\n",
       "25          25              9.1  105583.0\n",
       "26          26              9.6  116970.0\n",
       "27          27              9.7  112636.0\n",
       "28          28             10.4  122392.0\n",
       "29          29             10.6  121873.0"
      ]
     },
     "execution_count": 3,
     "metadata": {},
     "output_type": "execute_result"
    }
   ],
   "source": [
    "df"
   ]
  },
  {
   "cell_type": "markdown",
   "id": "e40302b4",
   "metadata": {
    "papermill": {
     "duration": 0.006909,
     "end_time": "2023-05-20T19:58:08.898507",
     "exception": false,
     "start_time": "2023-05-20T19:58:08.891598",
     "status": "completed"
    },
    "tags": []
   },
   "source": [
    "# Clear unwanted data"
   ]
  },
  {
   "cell_type": "code",
   "execution_count": 4,
   "id": "5d1eff65",
   "metadata": {
    "execution": {
     "iopub.execute_input": "2023-05-20T19:58:08.915910Z",
     "iopub.status.busy": "2023-05-20T19:58:08.915241Z",
     "iopub.status.idle": "2023-05-20T19:58:08.926800Z",
     "shell.execute_reply": "2023-05-20T19:58:08.925523Z"
    },
    "papermill": {
     "duration": 0.024183,
     "end_time": "2023-05-20T19:58:08.929929",
     "exception": false,
     "start_time": "2023-05-20T19:58:08.905746",
     "status": "completed"
    },
    "tags": []
   },
   "outputs": [],
   "source": [
    "data = df.copy()\n",
    "\n",
    "data.drop('Unnamed: 0', axis =1, inplace = True)"
   ]
  },
  {
   "cell_type": "markdown",
   "id": "3398b352",
   "metadata": {
    "papermill": {
     "duration": 0.00641,
     "end_time": "2023-05-20T19:58:08.943172",
     "exception": false,
     "start_time": "2023-05-20T19:58:08.936762",
     "status": "completed"
    },
    "tags": []
   },
   "source": [
    "# View data "
   ]
  },
  {
   "cell_type": "code",
   "execution_count": 5,
   "id": "efa9f6f2",
   "metadata": {
    "execution": {
     "iopub.execute_input": "2023-05-20T19:58:08.958675Z",
     "iopub.status.busy": "2023-05-20T19:58:08.958229Z",
     "iopub.status.idle": "2023-05-20T19:58:09.282538Z",
     "shell.execute_reply": "2023-05-20T19:58:09.280959Z"
    },
    "papermill": {
     "duration": 0.335291,
     "end_time": "2023-05-20T19:58:09.285281",
     "exception": false,
     "start_time": "2023-05-20T19:58:08.949990",
     "status": "completed"
    },
    "tags": []
   },
   "outputs": [
    {
     "data": {
      "text/plain": [
       "<AxesSubplot: xlabel='YearsExperience', ylabel='Salary'>"
      ]
     },
     "execution_count": 5,
     "metadata": {},
     "output_type": "execute_result"
    },
    {
     "data": {
      "image/png": "[encoded data removed]",
      "text/plain": [
       "<Figure size 640x480 with 1 Axes>"
      ]
     },
     "metadata": {},
     "output_type": "display_data"
    }
   ],
   "source": [
    "# Scatter plot showing the relationship between 'YearsExperience' and 'Salary'\n",
    "sns.scatterplot(data = data, x = 'YearsExperience', y = 'Salary' ) # Your code here\n"
   ]
  },
  {
   "cell_type": "markdown",
   "id": "b9bff41a",
   "metadata": {
    "papermill": {
     "duration": 0.007501,
     "end_time": "2023-05-20T19:58:09.300609",
     "exception": false,
     "start_time": "2023-05-20T19:58:09.293108",
     "status": "completed"
    },
    "tags": []
   },
   "source": [
    "# Applying Linear Regression\n",
    "\n",
    "## Importing Library"
   ]
  },
  {
   "cell_type": "code",
   "execution_count": 6,
   "id": "116e7a24",
   "metadata": {
    "execution": {
     "iopub.execute_input": "2023-05-20T19:58:09.317284Z",
     "iopub.status.busy": "2023-05-20T19:58:09.316800Z",
     "iopub.status.idle": "2023-05-20T19:58:09.819231Z",
     "shell.execute_reply": "2023-05-20T19:58:09.817887Z"
    },
    "papermill": {
     "duration": 0.514124,
     "end_time": "2023-05-20T19:58:09.822072",
     "exception": false,
     "start_time": "2023-05-20T19:58:09.307948",
     "status": "completed"
    },
    "tags": []
   },
   "outputs": [],
   "source": [
    "from sklearn import linear_model"
   ]
  },
  {
   "cell_type": "markdown",
   "id": "f7074361",
   "metadata": {
    "papermill": {
     "duration": 0.007747,
     "end_time": "2023-05-20T19:58:09.837654",
     "exception": false,
     "start_time": "2023-05-20T19:58:09.829907",
     "status": "completed"
    },
    "tags": []
   },
   "source": [
    "## Defining X and y"
   ]
  },
  {
   "cell_type": "code",
   "execution_count": 7,
   "id": "98a653bb",
   "metadata": {
    "execution": {
     "iopub.execute_input": "2023-05-20T19:58:09.855348Z",
     "iopub.status.busy": "2023-05-20T19:58:09.854905Z",
     "iopub.status.idle": "2023-05-20T19:58:09.862753Z",
     "shell.execute_reply": "2023-05-20T19:58:09.861572Z"
    },
    "papermill": {
     "duration": 0.020186,
     "end_time": "2023-05-20T19:58:09.865254",
     "exception": false,
     "start_time": "2023-05-20T19:58:09.845068",
     "status": "completed"
    },
    "tags": []
   },
   "outputs": [],
   "source": [
    "from sklearn.model_selection import train_test_split\n",
    "\n",
    "X = np.array(data.YearsExperience).reshape(-1,1)\n",
    "y = np.array(data.Salary).reshape(-1,1)\n",
    "\n",
    "train_X, val_X, train_y, val_y = train_test_split(X, y, random_state=1)\n"
   ]
  },
  {
   "cell_type": "markdown",
   "id": "dffb3de4",
   "metadata": {
    "papermill": {
     "duration": 0.007132,
     "end_time": "2023-05-20T19:58:09.880262",
     "exception": false,
     "start_time": "2023-05-20T19:58:09.873130",
     "status": "completed"
    },
    "tags": []
   },
   "source": [
    "## Fitting the model"
   ]
  },
  {
   "cell_type": "code",
   "execution_count": 8,
   "id": "c163a842",
   "metadata": {
    "execution": {
     "iopub.execute_input": "2023-05-20T19:58:09.896696Z",
     "iopub.status.busy": "2023-05-20T19:58:09.896295Z",
     "iopub.status.idle": "2023-05-20T19:58:09.926085Z",
     "shell.execute_reply": "2023-05-20T19:58:09.924450Z"
    },
    "papermill": {
     "duration": 0.041204,
     "end_time": "2023-05-20T19:58:09.928844",
     "exception": false,
     "start_time": "2023-05-20T19:58:09.887640",
     "status": "completed"
    },
    "tags": []
   },
   "outputs": [
    {
     "name": "stdout",
     "output_type": "stream",
     "text": [
      "Return the coefficient of determination of the prediction:  0.9554591781005436\n",
      "Estimated coefficients for the linear regression problem:  [[9261.56845302]]\n",
      "Independent term in the linear model:  [24967.14887377]\n"
     ]
    }
   ],
   "source": [
    "reg = linear_model.LinearRegression()\n",
    "reg.fit(train_X,train_y)\n",
    "\n",
    "print(\"Return the coefficient of determination of the prediction: \" ,reg.score(X, y))\n",
    "\n",
    "print(\"Estimated coefficients for the linear regression problem: \", reg.coef_)\n",
    "\n",
    "print(\"Independent term in the linear model: \", reg.intercept_)"
   ]
  },
  {
   "cell_type": "markdown",
   "id": "6252c326",
   "metadata": {
    "papermill": {
     "duration": 0.007564,
     "end_time": "2023-05-20T19:58:09.944488",
     "exception": false,
     "start_time": "2023-05-20T19:58:09.936924",
     "status": "completed"
    },
    "tags": []
   },
   "source": [
    "## Predict a new value"
   ]
  },
  {
   "cell_type": "code",
   "execution_count": 9,
   "id": "c6c9e1d2",
   "metadata": {
    "execution": {
     "iopub.execute_input": "2023-05-20T19:58:09.961953Z",
     "iopub.status.busy": "2023-05-20T19:58:09.961244Z",
     "iopub.status.idle": "2023-05-20T19:58:10.194371Z",
     "shell.execute_reply": "2023-05-20T19:58:10.193067Z"
    },
    "papermill": {
     "duration": 0.245204,
     "end_time": "2023-05-20T19:58:10.197056",
     "exception": false,
     "start_time": "2023-05-20T19:58:09.951852",
     "status": "completed"
    },
    "tags": []
   },
   "outputs": [
    {
     "name": "stdout",
     "output_type": "stream",
     "text": [
      "0.9180980074804028\n"
     ]
    },
    {
     "data": {
      "image/png": "[encoded data removed]",
      "text/plain": [
       "<Figure size 640x480 with 1 Axes>"
      ]
     },
     "metadata": {},
     "output_type": "display_data"
    }
   ],
   "source": [
    "y_pred = reg.predict(val_X)\n",
    "\n",
    "print(reg.score(val_X, val_y))\n",
    "\n",
    "plt.scatter(train_X, train_y, color ='b')\n",
    "plt.plot(val_X, y_pred, color ='k')\n",
    " \n",
    "plt.show()"
   ]
  },
  {
   "cell_type": "markdown",
   "id": "58b5e8e2",
   "metadata": {
    "papermill": {
     "duration": 0.007465,
     "end_time": "2023-05-20T19:58:10.212331",
     "exception": false,
     "start_time": "2023-05-20T19:58:10.204866",
     "status": "completed"
    },
    "tags": []
   },
   "source": [
    "## Verifying errors"
   ]
  },
  {
   "cell_type": "code",
   "execution_count": 10,
   "id": "d16f33fc",
   "metadata": {
    "execution": {
     "iopub.execute_input": "2023-05-20T19:58:10.229781Z",
     "iopub.status.busy": "2023-05-20T19:58:10.229389Z",
     "iopub.status.idle": "2023-05-20T19:58:10.239021Z",
     "shell.execute_reply": "2023-05-20T19:58:10.237450Z"
    },
    "papermill": {
     "duration": 0.021547,
     "end_time": "2023-05-20T19:58:10.241659",
     "exception": false,
     "start_time": "2023-05-20T19:58:10.220112",
     "status": "completed"
    },
    "tags": []
   },
   "outputs": [
    {
     "name": "stdout",
     "output_type": "stream",
     "text": [
      "Meam Absolute Error: 5215.553722712967\n",
      "Meam Squared Error: 40884620.50478403\n",
      "Root mean square error: 6394.10826501898\n"
     ]
    }
   ],
   "source": [
    "from sklearn.metrics import mean_absolute_error,mean_squared_error\n",
    "#train_X, val_X, train_y, val_y\n",
    "mae = mean_absolute_error(y_true=val_y,y_pred=y_pred)\n",
    "#squared True returns MSE value, False returns RMSE value.\n",
    "mse = mean_squared_error(y_true=val_y,y_pred=y_pred) #default=True\n",
    "rmse = mean_squared_error(y_true=val_y,y_pred=y_pred,squared=False)\n",
    " \n",
    "print(\"Meam Absolute Error:\",mae)\n",
    "print(\"Meam Squared Error:\",mse)\n",
    "print(\"Root mean square error:\",rmse)"
   ]
  }
 ],
 "metadata": {
  "kernelspec": {
   "display_name": "Python 3",
   "language": "python",
   "name": "python3"
  },
  "language_info": {
   "codemirror_mode": {
    "name": "ipython",
    "version": 3
   },
   "file_extension": ".py",
   "mimetype": "text/x-python",
   "name": "python",
   "nbconvert_exporter": "python",
   "pygments_lexer": "ipython3",
   "version": "3.10.10"
  },
  "papermill": {
   "default_parameters": {},
   "duration": 18.64394,
   "end_time": "2023-05-20T19:58:11.376425",
   "environment_variables": {},
   "exception": null,
   "input_path": "__notebook__.ipynb",
   "output_path": "__notebook__.ipynb",
   "parameters": {},
   "start_time": "2023-05-20T19:57:52.732485",
   "version": "2.4.0"
  }
 },
 "nbformat": 4,
 "nbformat_minor": 5
}
